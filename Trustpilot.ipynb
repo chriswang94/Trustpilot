{
 "cells": [
  {
   "cell_type": "markdown",
   "metadata": {},
   "source": [
    "# Trustpilot\n",
    "\n",
    "## Data Analyst Recruitment Exercise\n",
    "\n",
    "##### Author: Chris Wang\n",
    "\n",
    "The purpose of this workbook is to analyze two datasets:  \n",
    "1. plane_accidents.xlsx - an excel file containing information the cumulative count of plane accidents by country\n",
    "\n",
    "2. travel_insurance.csv - a csv file containing the following information on travel insurance sales:\n",
    "    * Name of agency (Agency) \n",
    "    * Type of travel insurance agencies (Agency.Type) \n",
    "    * Distribution channel of travel insurance agencies (Distribution.Channel)\n",
    "    * Name of the travel insurance product sold (Product.Name)\n",
    "    * Claim Status (Claim.Status) \n",
    "    * Duration of travel (Duration) \n",
    "    * Destination of travel (Destination) \n",
    "    * Amount of sales of travel insurance policies (Net.Sales) \n",
    "    * Commission received for travel insurance agency (Commission) \n",
    "    * Gender of insured (Gender)\n",
    "    * Age of insured (Age)\n",
    "---\n",
    "Plane Accidents data retrieved from https://www.airfleets.net/crash/stat_country.htm  \n",
    "Travel Insurance data retrieved from https://www.kaggle.com/mhdzahier/travel-insurance/metadata  \n",
    "\n",
    "---\n",
    "---"
   ]
  },
  {
   "cell_type": "code",
   "execution_count": 1,
   "metadata": {},
   "outputs": [],
   "source": [
    "import pandas as pd\n",
    "import numpy as np\n",
    "\n",
    "import matplotlib.pyplot as plt\n",
    "from matplotlib import cm\n",
    "import seaborn as sns"
   ]
  },
  {
   "cell_type": "code",
   "execution_count": 2,
   "metadata": {},
   "outputs": [],
   "source": [
    "# read in datasets\n",
    "accidents = pd.read_excel('plane_accidents.xlsx')\n",
    "insurance = pd.read_csv('travel_insurance.csv')"
   ]
  },
  {
   "cell_type": "code",
   "execution_count": 3,
   "metadata": {},
   "outputs": [],
   "source": [
    "# drop unneeded fields\n",
    "accidents = accidents[['country','accidents']]"
   ]
  },
  {
   "cell_type": "markdown",
   "metadata": {},
   "source": [
    "## 1. Plane Accidents"
   ]
  },
  {
   "cell_type": "markdown",
   "metadata": {},
   "source": [
    "### 1.1 Analysis of Plane Accidents Dataset\n",
    "\n",
    "The dataset has only two columns:\n",
    "1. country name and  \n",
    "2. its corresponding number of plane accidents  \n",
    "    \n",
    "Insights I may want to pull from this information are:\n",
    "1. Overall distribution of accidents (min, max, median, mean, and interquartile range)\n",
    "2. Order of countries sorted from most accidents to least"
   ]
  },
  {
   "cell_type": "code",
   "execution_count": 35,
   "metadata": {},
   "outputs": [
    {
     "data": {
      "text/plain": [
       "Text(0.5, 1.0, 'Plane Accidents - Distribution')"
      ]
     },
     "execution_count": 35,
     "metadata": {},
     "output_type": "execute_result"
    },
    {
     "data": {
      "image/png": "[encoded data removed]",
      "text/plain": [
       "<Figure size 432x288 with 1 Axes>"
      ]
     },
     "metadata": {
      "needs_background": "light"
     },
     "output_type": "display_data"
    }
   ],
   "source": [
    "sns.violinplot(x='accidents', data = accidents).set_title('Plane Accidents - Distribution')"
   ]
  },
  {
   "cell_type": "code",
   "execution_count": 5,
   "metadata": {},
   "outputs": [
    {
     "data": {
      "text/html": [
       "<div>\n",
       "<style scoped>\n",
       "    .dataframe tbody tr th:only-of-type {\n",
       "        vertical-align: middle;\n",
       "    }\n",
       "\n",
       "    .dataframe tbody tr th {\n",
       "        vertical-align: top;\n",
       "    }\n",
       "\n",
       "    .dataframe thead th {\n",
       "        text-align: right;\n",
       "    }\n",
       "</style>\n",
       "<table border=\"1\" class=\"dataframe\">\n",
       "  <thead>\n",
       "    <tr style=\"text-align: right;\">\n",
       "      <th></th>\n",
       "      <th>accidents</th>\n",
       "    </tr>\n",
       "  </thead>\n",
       "  <tbody>\n",
       "    <tr>\n",
       "      <th>count</th>\n",
       "      <td>122.000000</td>\n",
       "    </tr>\n",
       "    <tr>\n",
       "      <th>mean</th>\n",
       "      <td>3.950820</td>\n",
       "    </tr>\n",
       "    <tr>\n",
       "      <th>std</th>\n",
       "      <td>6.802834</td>\n",
       "    </tr>\n",
       "    <tr>\n",
       "      <th>min</th>\n",
       "      <td>1.000000</td>\n",
       "    </tr>\n",
       "    <tr>\n",
       "      <th>25%</th>\n",
       "      <td>1.000000</td>\n",
       "    </tr>\n",
       "    <tr>\n",
       "      <th>50%</th>\n",
       "      <td>2.000000</td>\n",
       "    </tr>\n",
       "    <tr>\n",
       "      <th>75%</th>\n",
       "      <td>4.000000</td>\n",
       "    </tr>\n",
       "    <tr>\n",
       "      <th>max</th>\n",
       "      <td>66.000000</td>\n",
       "    </tr>\n",
       "  </tbody>\n",
       "</table>\n",
       "</div>"
      ],
      "text/plain": [
       "        accidents\n",
       "count  122.000000\n",
       "mean     3.950820\n",
       "std      6.802834\n",
       "min      1.000000\n",
       "25%      1.000000\n",
       "50%      2.000000\n",
       "75%      4.000000\n",
       "max     66.000000"
      ]
     },
     "execution_count": 5,
     "metadata": {},
     "output_type": "execute_result"
    }
   ],
   "source": [
    "accidents.describe()"
   ]
  },
  {
   "cell_type": "markdown",
   "metadata": {},
   "source": [
    "According to the violin plot, the data is largely skewed left, meaning most countries have a low count of accidents rather than high.\n",
    "\n",
    "The average number of plane accidents of all countries is approximately 4.  \n",
    "The minimum number of accidents is 1; the maximum is 66.  \n",
    "The interquartile range is relatively narrow, ranging from 1 to 4."
   ]
  },
  {
   "cell_type": "code",
   "execution_count": 6,
   "metadata": {},
   "outputs": [
    {
     "data": {
      "text/plain": [
       "Text(0.5, 1.0, 'Plane Accidents by Country')"
      ]
     },
     "execution_count": 6,
     "metadata": {},
     "output_type": "execute_result"
    },
    {
     "data": {
      "image/png": "[encoded data removed]",
      "text/plain": [
       "<Figure size 432x1440 with 1 Axes>"
      ]
     },
     "metadata": {
      "needs_background": "light"
     },
     "output_type": "display_data"
    }
   ],
   "source": [
    "# order from greatest to least number of accidents\n",
    "accidents.sort_values(by='accidents', ascending=False, inplace=True)\n",
    "\n",
    "# bar plot\n",
    "plt.figure(figsize=(6, 20))\n",
    "sns.barplot(x='accidents',y='country', data=accidents).set_title('Plane Accidents by Country')"
   ]
  },
  {
   "cell_type": "markdown",
   "metadata": {},
   "source": [
    "## 1.2 Potential Data Enhancements\n",
    "\n",
    "This dataset may be further enhanced with auxiliary information regarding:\n",
    "1. Number of flights to and from each country\n",
    "2. Severity of each accident (in regards to damage to the aircraft/property in dollar amounts, fatality count)\n",
    "3. Cause of each accident\n",
    "4. Size of aircraft involved in the accident\n",
    "5. Timing of the accidents (year over year)\n",
    "6. Timeline of aircraft technology developments  \n",
    "  \n",
    "These details would provide further context that could lead to clearer descriptions of aircraft safety per country.\n",
    "\n",
    "Since this information is a cumulative total, having an understanding of the details described above would allow the given information to be normalized. For example, the US has the most number of accidents, but also likely has many times more flights and, therefore, accident potential, compared to other, smaller countries. As such, it would be imprecise to measure risk based solely on the absolute count.\n",
    "\n",
    "In addition, information regarding timing would allow for trend analysis year-over-year, which would allow for projections into the future with greater accuracy. Though research on past events is useful, predictions of future risk would prove to be far more valuable to insurance agencies, airline investors, and passengers.\n",
    "\n",
    "According to a study performed by Boeing, the majority of serious accidents occur during the landing phase of flights. Assuming this to be true, I would be interested in looking at the differences between airports in each country in order to see if there are any major factors in play (e.g. typical weather conditions, tarmac quality, air traffic control protocol, etc.)  \n",
    "&nbsp;&nbsp;&nbsp;&nbsp;&nbsp;Source: http://www.boeing.com/resources/boeingdotcom/company/about_bca/pdf/statsum.pdf"
   ]
  },
  {
   "cell_type": "markdown",
   "metadata": {},
   "source": [
    "# 2. Travel Insurance"
   ]
  },
  {
   "cell_type": "markdown",
   "metadata": {},
   "source": [
    "# 2.1 Analysis of Travel Insurance Dataset\n",
    "\n",
    "The following analysis dissects the Travel Insurance dataset from 3 points of view with regards to net sales and claim statuses:\n",
    "1. Customers\n",
    "2. Agencies\n",
    "3. Flights"
   ]
  },
  {
   "cell_type": "markdown",
   "metadata": {},
   "source": [
    "## 2.1.1 Customer Analysis"
   ]
  },
  {
   "cell_type": "code",
   "execution_count": 34,
   "metadata": {},
   "outputs": [
    {
     "data": {
      "text/plain": [
       "Text(0.5, 1.0, 'Travel Insurance Items by Age, Gender')"
      ]
     },
     "execution_count": 34,
     "metadata": {},
     "output_type": "execute_result"
    },
    {
     "data": {
      "image/png": "[encoded data removed]",
      "text/plain": [
       "<Figure size 432x288 with 1 Axes>"
      ]
     },
     "metadata": {
      "needs_background": "light"
     },
     "output_type": "display_data"
    }
   ],
   "source": [
    "sns.violinplot(x='Claim', y='Age', hue='Gender', split=True, data=insurance).set_title('Travel Insurance Items by Age, Gender')"
   ]
  },
  {
   "cell_type": "markdown",
   "metadata": {},
   "source": [
    "* It would appear that the most common age of purchasers of travel insurance is around 40 years old.  \n",
    "This may be because people travel the most during their middle-ages. Or because, realistically, in a family dynamic, the parents would be the ones most likely to purchase travel insurance for everyone (including kids and grandparents).\n",
    "As such, it may make sense to group customers by age during analysis\n",
    "\n",
    "* Little variation between genders.\n",
    "\n",
    "* There also appears to be a surprising number of incredibly elderly (close to 120 years old) passengers purchasing travel insurance, which I would be suspicious of, especially considering there are few to no passengers with ages approximately between 80 and 120 years old."
   ]
  },
  {
   "cell_type": "code",
   "execution_count": 8,
   "metadata": {},
   "outputs": [
    {
     "data": {
      "text/html": [
       "<div>\n",
       "<style scoped>\n",
       "    .dataframe tbody tr th:only-of-type {\n",
       "        vertical-align: middle;\n",
       "    }\n",
       "\n",
       "    .dataframe tbody tr th {\n",
       "        vertical-align: top;\n",
       "    }\n",
       "\n",
       "    .dataframe thead th {\n",
       "        text-align: right;\n",
       "    }\n",
       "</style>\n",
       "<table border=\"1\" class=\"dataframe\">\n",
       "  <thead>\n",
       "    <tr style=\"text-align: right;\">\n",
       "      <th></th>\n",
       "      <th></th>\n",
       "      <th>Count</th>\n",
       "    </tr>\n",
       "    <tr>\n",
       "      <th>Age</th>\n",
       "      <th>Agency</th>\n",
       "      <th></th>\n",
       "    </tr>\n",
       "  </thead>\n",
       "  <tbody>\n",
       "    <tr>\n",
       "      <th rowspan=\"8\" valign=\"top\">118</th>\n",
       "      <th>ADM</th>\n",
       "      <td>1</td>\n",
       "    </tr>\n",
       "    <tr>\n",
       "      <th>ART</th>\n",
       "      <td>59</td>\n",
       "    </tr>\n",
       "    <tr>\n",
       "      <th>CCR</th>\n",
       "      <td>47</td>\n",
       "    </tr>\n",
       "    <tr>\n",
       "      <th>CWT</th>\n",
       "      <td>2</td>\n",
       "    </tr>\n",
       "    <tr>\n",
       "      <th>EPX</th>\n",
       "      <td>40</td>\n",
       "    </tr>\n",
       "    <tr>\n",
       "      <th>JWT</th>\n",
       "      <td>749</td>\n",
       "    </tr>\n",
       "    <tr>\n",
       "      <th>JZI</th>\n",
       "      <td>68</td>\n",
       "    </tr>\n",
       "    <tr>\n",
       "      <th>SSI</th>\n",
       "      <td>18</td>\n",
       "    </tr>\n",
       "  </tbody>\n",
       "</table>\n",
       "</div>"
      ],
      "text/plain": [
       "            Count\n",
       "Age Agency       \n",
       "118 ADM         1\n",
       "    ART        59\n",
       "    CCR        47\n",
       "    CWT         2\n",
       "    EPX        40\n",
       "    JWT       749\n",
       "    JZI        68\n",
       "    SSI        18"
      ]
     },
     "execution_count": 8,
     "metadata": {},
     "output_type": "execute_result"
    }
   ],
   "source": [
    "elderly_agency = insurance[insurance['Age'] > 90].groupby(['Age','Agency'])\n",
    "elderly_agency = elderly_agency.agg({'Agency':'count'})\n",
    "elderly_agency.rename(columns={'Agency':'Count'}, inplace=True)\n",
    "elderly_agency"
   ]
  },
  {
   "cell_type": "markdown",
   "metadata": {},
   "source": [
    "In fact, the only passengers older than 90 years old, are all 118 years old and the vast majority purchased from JWT.  \n",
    "It is possible that 118 is the default designation for unknown ages; a weird default, especially with so many agencies following the same practice. Otherwise, this may be an issue with how the data was sampled."
   ]
  },
  {
   "cell_type": "code",
   "execution_count": 9,
   "metadata": {},
   "outputs": [],
   "source": [
    "# bucket ages\n",
    "insurance['Age Group'] = pd.cut(insurance['Age'], 4, labels=['Young','Middle-Aged','Senior','118'])"
   ]
  },
  {
   "cell_type": "code",
   "execution_count": 10,
   "metadata": {},
   "outputs": [
    {
     "data": {
      "text/html": [
       "<div>\n",
       "<style scoped>\n",
       "    .dataframe tbody tr th:only-of-type {\n",
       "        vertical-align: middle;\n",
       "    }\n",
       "\n",
       "    .dataframe tbody tr th {\n",
       "        vertical-align: top;\n",
       "    }\n",
       "\n",
       "    .dataframe thead tr th {\n",
       "        text-align: left;\n",
       "    }\n",
       "\n",
       "    .dataframe thead tr:last-of-type th {\n",
       "        text-align: right;\n",
       "    }\n",
       "</style>\n",
       "<table border=\"1\" class=\"dataframe\">\n",
       "  <thead>\n",
       "    <tr>\n",
       "      <th></th>\n",
       "      <th colspan=\"8\" halign=\"left\">Age</th>\n",
       "      <th colspan=\"8\" halign=\"left\">Net Sales</th>\n",
       "    </tr>\n",
       "    <tr>\n",
       "      <th></th>\n",
       "      <th>count</th>\n",
       "      <th>mean</th>\n",
       "      <th>std</th>\n",
       "      <th>min</th>\n",
       "      <th>25%</th>\n",
       "      <th>50%</th>\n",
       "      <th>75%</th>\n",
       "      <th>max</th>\n",
       "      <th>count</th>\n",
       "      <th>mean</th>\n",
       "      <th>std</th>\n",
       "      <th>min</th>\n",
       "      <th>25%</th>\n",
       "      <th>50%</th>\n",
       "      <th>75%</th>\n",
       "      <th>max</th>\n",
       "    </tr>\n",
       "    <tr>\n",
       "      <th>Age Group</th>\n",
       "      <th></th>\n",
       "      <th></th>\n",
       "      <th></th>\n",
       "      <th></th>\n",
       "      <th></th>\n",
       "      <th></th>\n",
       "      <th></th>\n",
       "      <th></th>\n",
       "      <th></th>\n",
       "      <th></th>\n",
       "      <th></th>\n",
       "      <th></th>\n",
       "      <th></th>\n",
       "      <th></th>\n",
       "      <th></th>\n",
       "      <th></th>\n",
       "    </tr>\n",
       "  </thead>\n",
       "  <tbody>\n",
       "    <tr>\n",
       "      <th>Young</th>\n",
       "      <td>7768.0</td>\n",
       "      <td>25.490989</td>\n",
       "      <td>3.220360</td>\n",
       "      <td>0.0</td>\n",
       "      <td>24.0</td>\n",
       "      <td>26.0</td>\n",
       "      <td>28.0</td>\n",
       "      <td>29.0</td>\n",
       "      <td>7768.0</td>\n",
       "      <td>42.820475</td>\n",
       "      <td>57.824914</td>\n",
       "      <td>-389.00</td>\n",
       "      <td>17.0</td>\n",
       "      <td>26.0</td>\n",
       "      <td>49.0</td>\n",
       "      <td>682.0</td>\n",
       "    </tr>\n",
       "    <tr>\n",
       "      <th>Middle-Aged</th>\n",
       "      <td>51377.0</td>\n",
       "      <td>39.023785</td>\n",
       "      <td>6.789628</td>\n",
       "      <td>30.0</td>\n",
       "      <td>36.0</td>\n",
       "      <td>36.0</td>\n",
       "      <td>42.0</td>\n",
       "      <td>59.0</td>\n",
       "      <td>51377.0</td>\n",
       "      <td>39.848661</td>\n",
       "      <td>46.340612</td>\n",
       "      <td>-297.00</td>\n",
       "      <td>18.0</td>\n",
       "      <td>26.0</td>\n",
       "      <td>48.0</td>\n",
       "      <td>666.0</td>\n",
       "    </tr>\n",
       "    <tr>\n",
       "      <th>Senior</th>\n",
       "      <td>3197.0</td>\n",
       "      <td>66.339693</td>\n",
       "      <td>5.707654</td>\n",
       "      <td>60.0</td>\n",
       "      <td>62.0</td>\n",
       "      <td>65.0</td>\n",
       "      <td>69.0</td>\n",
       "      <td>88.0</td>\n",
       "      <td>3197.0</td>\n",
       "      <td>46.499515</td>\n",
       "      <td>62.522662</td>\n",
       "      <td>-291.75</td>\n",
       "      <td>20.0</td>\n",
       "      <td>29.0</td>\n",
       "      <td>45.0</td>\n",
       "      <td>599.0</td>\n",
       "    </tr>\n",
       "    <tr>\n",
       "      <th>118</th>\n",
       "      <td>984.0</td>\n",
       "      <td>118.000000</td>\n",
       "      <td>0.000000</td>\n",
       "      <td>118.0</td>\n",
       "      <td>118.0</td>\n",
       "      <td>118.0</td>\n",
       "      <td>118.0</td>\n",
       "      <td>118.0</td>\n",
       "      <td>984.0</td>\n",
       "      <td>49.698079</td>\n",
       "      <td>45.509445</td>\n",
       "      <td>-93.00</td>\n",
       "      <td>31.0</td>\n",
       "      <td>39.0</td>\n",
       "      <td>60.0</td>\n",
       "      <td>810.0</td>\n",
       "    </tr>\n",
       "  </tbody>\n",
       "</table>\n",
       "</div>"
      ],
      "text/plain": [
       "                 Age                                                           \\\n",
       "               count        mean       std    min    25%    50%    75%    max   \n",
       "Age Group                                                                       \n",
       "Young         7768.0   25.490989  3.220360    0.0   24.0   26.0   28.0   29.0   \n",
       "Middle-Aged  51377.0   39.023785  6.789628   30.0   36.0   36.0   42.0   59.0   \n",
       "Senior        3197.0   66.339693  5.707654   60.0   62.0   65.0   69.0   88.0   \n",
       "118            984.0  118.000000  0.000000  118.0  118.0  118.0  118.0  118.0   \n",
       "\n",
       "            Net Sales                                                         \n",
       "                count       mean        std     min   25%   50%   75%    max  \n",
       "Age Group                                                                     \n",
       "Young          7768.0  42.820475  57.824914 -389.00  17.0  26.0  49.0  682.0  \n",
       "Middle-Aged   51377.0  39.848661  46.340612 -297.00  18.0  26.0  48.0  666.0  \n",
       "Senior         3197.0  46.499515  62.522662 -291.75  20.0  29.0  45.0  599.0  \n",
       "118             984.0  49.698079  45.509445  -93.00  31.0  39.0  60.0  810.0  "
      ]
     },
     "execution_count": 10,
     "metadata": {},
     "output_type": "execute_result"
    }
   ],
   "source": [
    "agegroup = insurance.groupby('Age Group')\n",
    "agegroup[['Age','Net Sales']].describe()"
   ]
  },
  {
   "cell_type": "code",
   "execution_count": 11,
   "metadata": {},
   "outputs": [
    {
     "data": {
      "text/plain": [
       "Text(0.5, 1.0, 'Distribution of Net Sales by Age Group')"
      ]
     },
     "execution_count": 11,
     "metadata": {},
     "output_type": "execute_result"
    },
    {
     "data": {
      "image/png": "[encoded data removed]",
      "text/plain": [
       "<Figure size 432x288 with 1 Axes>"
      ]
     },
     "metadata": {
      "needs_background": "light"
     },
     "output_type": "display_data"
    }
   ],
   "source": [
    "sns.boxplot(x='Net Sales', y='Age Group', data=insurance).set_title('Distribution of Net Sales by Age Group')"
   ]
  },
  {
   "cell_type": "code",
   "execution_count": 12,
   "metadata": {},
   "outputs": [
    {
     "data": {
      "text/plain": [
       "Text(0.5, 1.0, 'Number of Claims by Age Group')"
      ]
     },
     "execution_count": 12,
     "metadata": {},
     "output_type": "execute_result"
    },
    {
     "data": {
      "image/png": "[encoded data removed]",
      "text/plain": [
       "<Figure size 432x288 with 1 Axes>"
      ]
     },
     "metadata": {
      "needs_background": "light"
     },
     "output_type": "display_data"
    }
   ],
   "source": [
    "agegroup = agegroup.agg({'Claim':'count'})\n",
    "agegroup.rename(columns={'Claim':'Count'}, inplace=True)\n",
    "agegroup.reset_index(inplace=True)\n",
    "\n",
    "sns.barplot(x='Age Group', y='Count', data=agegroup).set_title('Number of Claims by Age Group')"
   ]
  },
  {
   "cell_type": "markdown",
   "metadata": {},
   "source": [
    "## 2.1.2 Agency Analysis"
   ]
  },
  {
   "cell_type": "markdown",
   "metadata": {},
   "source": [
    "### 2.1.2.1 Overall Agency View"
   ]
  },
  {
   "cell_type": "code",
   "execution_count": 13,
   "metadata": {},
   "outputs": [
    {
     "data": {
      "text/plain": [
       "Text(0.5, 1.0, 'Number of Claims by Agency Type')"
      ]
     },
     "execution_count": 13,
     "metadata": {},
     "output_type": "execute_result"
    },
    {
     "data": {
      "image/png": "[encoded data removed]",
      "text/plain": [
       "<Figure size 432x288 with 1 Axes>"
      ]
     },
     "metadata": {
      "needs_background": "light"
     },
     "output_type": "display_data"
    }
   ],
   "source": [
    "# Agency Type comparison\n",
    "agencytype = insurance.groupby(['Agency Type','Claim'])\n",
    "agencytype_claimcount = agencytype.agg({'Claim':'count'})\n",
    "agencytype_claimcount.rename(columns={'Claim':'Count'}, inplace=True)\n",
    "agencytype_claimcount.reset_index(inplace=True)\n",
    "sns.barplot(x='Agency Type', y='Count', hue='Claim', data=agencytype_claimcount).set_title('Number of Claims by Agency Type')"
   ]
  },
  {
   "cell_type": "code",
   "execution_count": 14,
   "metadata": {},
   "outputs": [
    {
     "data": {
      "text/plain": [
       "Text(0.5, 1.0, 'Count of Sales by Agency')"
      ]
     },
     "execution_count": 14,
     "metadata": {},
     "output_type": "execute_result"
    },
    {
     "data": {
      "image/png": "[encoded data removed]",
      "text/plain": [
       "<Figure size 432x288 with 1 Axes>"
      ]
     },
     "metadata": {
      "needs_background": "light"
     },
     "output_type": "display_data"
    }
   ],
   "source": [
    "# Largest agency by number of purchases\n",
    "agency = insurance.groupby(['Agency'])\n",
    "agency_count = agency.agg({'Agency':'count'})\n",
    "agency_count.rename(columns={'Agency':'Count'}, inplace=True)\n",
    "agency_count.reset_index(inplace=True)\n",
    "\n",
    "sns.barplot(x='Agency', y='Count', data=agency_count).set_title('Count of Sales by Agency')"
   ]
  },
  {
   "cell_type": "code",
   "execution_count": 15,
   "metadata": {},
   "outputs": [
    {
     "data": {
      "text/plain": [
       "Text(0.5, 1.0, 'Total Revenue by Agency')"
      ]
     },
     "execution_count": 15,
     "metadata": {},
     "output_type": "execute_result"
    },
    {
     "data": {
      "image/png": "[encoded data removed]",
      "text/plain": [
       "<Figure size 432x288 with 1 Axes>"
      ]
     },
     "metadata": {
      "needs_background": "light"
     },
     "output_type": "display_data"
    }
   ],
   "source": [
    "# Largest agency by total revenue\n",
    "agency_sum = agency.agg({'Net Sales':'sum'})\n",
    "agency_sum.rename(columns={'Net Sales':'Total Revenue'}, inplace=True)\n",
    "agency_sum.reset_index(inplace=True)\n",
    "\n",
    "sns.barplot(x='Agency', y='Total Revenue', data=agency_sum).set_title('Total Revenue by Agency')"
   ]
  },
  {
   "cell_type": "code",
   "execution_count": 16,
   "metadata": {},
   "outputs": [
    {
     "data": {
      "text/plain": [
       "Text(0.5, 1.0, 'Revenue per Sale by Agency')"
      ]
     },
     "execution_count": 16,
     "metadata": {},
     "output_type": "execute_result"
    },
    {
     "data": {
      "image/png": "[encoded data removed]",
      "text/plain": [
       "<Figure size 576x432 with 1 Axes>"
      ]
     },
     "metadata": {
      "needs_background": "light"
     },
     "output_type": "display_data"
    }
   ],
   "source": [
    "# Average Revenue per Purchase by Agency\n",
    "agency_countSum = agency_count.merge(agency_sum, on='Agency')\n",
    "agency_countSum['Average Revenue'] = agency_countSum['Total Revenue']/agency_countSum['Count']\n",
    "plt.figure(figsize=(8, 6))\n",
    "sns.scatterplot(x='Agency', y='Total Revenue', hue='Average Revenue', size='Average Revenue', data=agency_countSum, \n",
    "                sizes=(50, 400)).set_title('Total Revenue, Average Revenue by Agency')"
   ]
  },
  {
   "cell_type": "markdown",
   "metadata": {},
   "source": [
    "### 2.1.2.2 Per Agency View"
   ]
  },
  {
   "cell_type": "markdown",
   "metadata": {},
   "source": [
    "What demographic does each agency typically attact?"
   ]
  },
  {
   "cell_type": "code",
   "execution_count": 17,
   "metadata": {},
   "outputs": [
    {
     "data": {
      "text/html": [
       "<div>\n",
       "<style scoped>\n",
       "    .dataframe tbody tr th:only-of-type {\n",
       "        vertical-align: middle;\n",
       "    }\n",
       "\n",
       "    .dataframe tbody tr th {\n",
       "        vertical-align: top;\n",
       "    }\n",
       "\n",
       "    .dataframe thead th {\n",
       "        text-align: right;\n",
       "    }\n",
       "</style>\n",
       "<table border=\"1\" class=\"dataframe\">\n",
       "  <thead>\n",
       "    <tr style=\"text-align: right;\">\n",
       "      <th></th>\n",
       "      <th></th>\n",
       "      <th>Age Group</th>\n",
       "    </tr>\n",
       "    <tr>\n",
       "      <th>Agency</th>\n",
       "      <th>Age Group</th>\n",
       "      <th></th>\n",
       "    </tr>\n",
       "  </thead>\n",
       "  <tbody>\n",
       "    <tr>\n",
       "      <th rowspan=\"3\" valign=\"top\">ADM</th>\n",
       "      <th>Young</th>\n",
       "      <td>79</td>\n",
       "    </tr>\n",
       "    <tr>\n",
       "      <th>Middle-Aged</th>\n",
       "      <td>2</td>\n",
       "    </tr>\n",
       "    <tr>\n",
       "      <th>118</th>\n",
       "      <td>1</td>\n",
       "    </tr>\n",
       "    <tr>\n",
       "      <th rowspan=\"4\" valign=\"top\">ART</th>\n",
       "      <th>Young</th>\n",
       "      <td>3</td>\n",
       "    </tr>\n",
       "    <tr>\n",
       "      <th>Middle-Aged</th>\n",
       "      <td>267</td>\n",
       "    </tr>\n",
       "    <tr>\n",
       "      <th>Senior</th>\n",
       "      <td>2</td>\n",
       "    </tr>\n",
       "    <tr>\n",
       "      <th>118</th>\n",
       "      <td>59</td>\n",
       "    </tr>\n",
       "    <tr>\n",
       "      <th rowspan=\"3\" valign=\"top\">C2B</th>\n",
       "      <th>Young</th>\n",
       "      <td>2538</td>\n",
       "    </tr>\n",
       "    <tr>\n",
       "      <th>Middle-Aged</th>\n",
       "      <td>5035</td>\n",
       "    </tr>\n",
       "    <tr>\n",
       "      <th>Senior</th>\n",
       "      <td>694</td>\n",
       "    </tr>\n",
       "    <tr>\n",
       "      <th rowspan=\"3\" valign=\"top\">CBH</th>\n",
       "      <th>Young</th>\n",
       "      <td>19</td>\n",
       "    </tr>\n",
       "    <tr>\n",
       "      <th>Middle-Aged</th>\n",
       "      <td>20</td>\n",
       "    </tr>\n",
       "    <tr>\n",
       "      <th>Senior</th>\n",
       "      <td>62</td>\n",
       "    </tr>\n",
       "    <tr>\n",
       "      <th rowspan=\"4\" valign=\"top\">CCR</th>\n",
       "      <th>Young</th>\n",
       "      <td>33</td>\n",
       "    </tr>\n",
       "    <tr>\n",
       "      <th>Middle-Aged</th>\n",
       "      <td>44</td>\n",
       "    </tr>\n",
       "    <tr>\n",
       "      <th>Senior</th>\n",
       "      <td>70</td>\n",
       "    </tr>\n",
       "    <tr>\n",
       "      <th>118</th>\n",
       "      <td>47</td>\n",
       "    </tr>\n",
       "    <tr>\n",
       "      <th rowspan=\"3\" valign=\"top\">CSR</th>\n",
       "      <th>Young</th>\n",
       "      <td>17</td>\n",
       "    </tr>\n",
       "    <tr>\n",
       "      <th>Middle-Aged</th>\n",
       "      <td>18</td>\n",
       "    </tr>\n",
       "    <tr>\n",
       "      <th>Senior</th>\n",
       "      <td>51</td>\n",
       "    </tr>\n",
       "    <tr>\n",
       "      <th rowspan=\"4\" valign=\"top\">CWT</th>\n",
       "      <th>Young</th>\n",
       "      <td>929</td>\n",
       "    </tr>\n",
       "    <tr>\n",
       "      <th>Middle-Aged</th>\n",
       "      <td>7165</td>\n",
       "    </tr>\n",
       "    <tr>\n",
       "      <th>Senior</th>\n",
       "      <td>484</td>\n",
       "    </tr>\n",
       "    <tr>\n",
       "      <th>118</th>\n",
       "      <td>2</td>\n",
       "    </tr>\n",
       "    <tr>\n",
       "      <th rowspan=\"4\" valign=\"top\">EPX</th>\n",
       "      <th>Young</th>\n",
       "      <td>2965</td>\n",
       "    </tr>\n",
       "    <tr>\n",
       "      <th>Middle-Aged</th>\n",
       "      <td>31370</td>\n",
       "    </tr>\n",
       "    <tr>\n",
       "      <th>Senior</th>\n",
       "      <td>744</td>\n",
       "    </tr>\n",
       "    <tr>\n",
       "      <th>118</th>\n",
       "      <td>40</td>\n",
       "    </tr>\n",
       "    <tr>\n",
       "      <th>JWT</th>\n",
       "      <th>118</th>\n",
       "      <td>749</td>\n",
       "    </tr>\n",
       "    <tr>\n",
       "      <th rowspan=\"4\" valign=\"top\">JZI</th>\n",
       "      <th>Young</th>\n",
       "      <td>792</td>\n",
       "    </tr>\n",
       "    <tr>\n",
       "      <th>Middle-Aged</th>\n",
       "      <td>4756</td>\n",
       "    </tr>\n",
       "    <tr>\n",
       "      <th>Senior</th>\n",
       "      <td>713</td>\n",
       "    </tr>\n",
       "    <tr>\n",
       "      <th>118</th>\n",
       "      <td>68</td>\n",
       "    </tr>\n",
       "    <tr>\n",
       "      <th rowspan=\"3\" valign=\"top\">KML</th>\n",
       "      <th>Young</th>\n",
       "      <td>1</td>\n",
       "    </tr>\n",
       "    <tr>\n",
       "      <th>Middle-Aged</th>\n",
       "      <td>390</td>\n",
       "    </tr>\n",
       "    <tr>\n",
       "      <th>Senior</th>\n",
       "      <td>1</td>\n",
       "    </tr>\n",
       "    <tr>\n",
       "      <th rowspan=\"3\" valign=\"top\">LWC</th>\n",
       "      <th>Young</th>\n",
       "      <td>140</td>\n",
       "    </tr>\n",
       "    <tr>\n",
       "      <th>Middle-Aged</th>\n",
       "      <td>485</td>\n",
       "    </tr>\n",
       "    <tr>\n",
       "      <th>Senior</th>\n",
       "      <td>64</td>\n",
       "    </tr>\n",
       "    <tr>\n",
       "      <th rowspan=\"3\" valign=\"top\">RAB</th>\n",
       "      <th>Young</th>\n",
       "      <td>145</td>\n",
       "    </tr>\n",
       "    <tr>\n",
       "      <th>Middle-Aged</th>\n",
       "      <td>474</td>\n",
       "    </tr>\n",
       "    <tr>\n",
       "      <th>Senior</th>\n",
       "      <td>106</td>\n",
       "    </tr>\n",
       "    <tr>\n",
       "      <th rowspan=\"2\" valign=\"top\">SSI</th>\n",
       "      <th>Middle-Aged</th>\n",
       "      <td>1038</td>\n",
       "    </tr>\n",
       "    <tr>\n",
       "      <th>118</th>\n",
       "      <td>18</td>\n",
       "    </tr>\n",
       "    <tr>\n",
       "      <th rowspan=\"3\" valign=\"top\">TST</th>\n",
       "      <th>Young</th>\n",
       "      <td>86</td>\n",
       "    </tr>\n",
       "    <tr>\n",
       "      <th>Middle-Aged</th>\n",
       "      <td>248</td>\n",
       "    </tr>\n",
       "    <tr>\n",
       "      <th>Senior</th>\n",
       "      <td>194</td>\n",
       "    </tr>\n",
       "    <tr>\n",
       "      <th rowspan=\"3\" valign=\"top\">TTW</th>\n",
       "      <th>Young</th>\n",
       "      <td>21</td>\n",
       "    </tr>\n",
       "    <tr>\n",
       "      <th>Middle-Aged</th>\n",
       "      <td>65</td>\n",
       "    </tr>\n",
       "    <tr>\n",
       "      <th>Senior</th>\n",
       "      <td>12</td>\n",
       "    </tr>\n",
       "  </tbody>\n",
       "</table>\n",
       "</div>"
      ],
      "text/plain": [
       "                    Age Group\n",
       "Agency Age Group             \n",
       "ADM    Young               79\n",
       "       Middle-Aged          2\n",
       "       118                  1\n",
       "ART    Young                3\n",
       "       Middle-Aged        267\n",
       "       Senior               2\n",
       "       118                 59\n",
       "C2B    Young             2538\n",
       "       Middle-Aged       5035\n",
       "       Senior             694\n",
       "CBH    Young               19\n",
       "       Middle-Aged         20\n",
       "       Senior              62\n",
       "CCR    Young               33\n",
       "       Middle-Aged         44\n",
       "       Senior              70\n",
       "       118                 47\n",
       "CSR    Young               17\n",
       "       Middle-Aged         18\n",
       "       Senior              51\n",
       "CWT    Young              929\n",
       "       Middle-Aged       7165\n",
       "       Senior             484\n",
       "       118                  2\n",
       "EPX    Young             2965\n",
       "       Middle-Aged      31370\n",
       "       Senior             744\n",
       "       118                 40\n",
       "JWT    118                749\n",
       "JZI    Young              792\n",
       "       Middle-Aged       4756\n",
       "       Senior             713\n",
       "       118                 68\n",
       "KML    Young                1\n",
       "       Middle-Aged        390\n",
       "       Senior               1\n",
       "LWC    Young              140\n",
       "       Middle-Aged        485\n",
       "       Senior              64\n",
       "RAB    Young              145\n",
       "       Middle-Aged        474\n",
       "       Senior             106\n",
       "SSI    Middle-Aged       1038\n",
       "       118                 18\n",
       "TST    Young               86\n",
       "       Middle-Aged        248\n",
       "       Senior             194\n",
       "TTW    Young               21\n",
       "       Middle-Aged         65\n",
       "       Senior              12"
      ]
     },
     "execution_count": 17,
     "metadata": {},
     "output_type": "execute_result"
    }
   ],
   "source": [
    "# Analysis of Agency customer demographics\n",
    "agency_age = insurance.groupby(['Agency','Age Group']).agg({'Age Group':'count'})\n",
    "agency_age"
   ]
  },
  {
   "cell_type": "code",
   "execution_count": 18,
   "metadata": {},
   "outputs": [
    {
     "data": {
      "text/html": [
       "<div>\n",
       "<style scoped>\n",
       "    .dataframe tbody tr th:only-of-type {\n",
       "        vertical-align: middle;\n",
       "    }\n",
       "\n",
       "    .dataframe tbody tr th {\n",
       "        vertical-align: top;\n",
       "    }\n",
       "\n",
       "    .dataframe thead th {\n",
       "        text-align: right;\n",
       "    }\n",
       "</style>\n",
       "<table border=\"1\" class=\"dataframe\">\n",
       "  <thead>\n",
       "    <tr style=\"text-align: right;\">\n",
       "      <th></th>\n",
       "      <th></th>\n",
       "      <th>Destination</th>\n",
       "    </tr>\n",
       "    <tr>\n",
       "      <th>Agency</th>\n",
       "      <th>Destination</th>\n",
       "      <th></th>\n",
       "    </tr>\n",
       "  </thead>\n",
       "  <tbody>\n",
       "    <tr>\n",
       "      <th rowspan=\"13\" valign=\"top\">ADM</th>\n",
       "      <th>FRANCE</th>\n",
       "      <td>52</td>\n",
       "    </tr>\n",
       "    <tr>\n",
       "      <th>GERMANY</th>\n",
       "      <td>1</td>\n",
       "    </tr>\n",
       "    <tr>\n",
       "      <th>INDONESIA</th>\n",
       "      <td>6</td>\n",
       "    </tr>\n",
       "    <tr>\n",
       "      <th>IRELAND</th>\n",
       "      <td>1</td>\n",
       "    </tr>\n",
       "    <tr>\n",
       "      <th>ITALY</th>\n",
       "      <td>2</td>\n",
       "    </tr>\n",
       "    <tr>\n",
       "      <th>MALAYSIA</th>\n",
       "      <td>1</td>\n",
       "    </tr>\n",
       "    <tr>\n",
       "      <th>MEXICO</th>\n",
       "      <td>1</td>\n",
       "    </tr>\n",
       "    <tr>\n",
       "      <th>MOROCCO</th>\n",
       "      <td>3</td>\n",
       "    </tr>\n",
       "    <tr>\n",
       "      <th>NETHERLANDS</th>\n",
       "      <td>9</td>\n",
       "    </tr>\n",
       "    <tr>\n",
       "      <th>RUSSIAN FEDERATION</th>\n",
       "      <td>1</td>\n",
       "    </tr>\n",
       "    <tr>\n",
       "      <th>SPAIN</th>\n",
       "      <td>1</td>\n",
       "    </tr>\n",
       "    <tr>\n",
       "      <th>SWITZERLAND</th>\n",
       "      <td>1</td>\n",
       "    </tr>\n",
       "    <tr>\n",
       "      <th>UNITED KINGDOM</th>\n",
       "      <td>3</td>\n",
       "    </tr>\n",
       "    <tr>\n",
       "      <th rowspan=\"17\" valign=\"top\">ART</th>\n",
       "      <th>CAMBODIA</th>\n",
       "      <td>14</td>\n",
       "    </tr>\n",
       "    <tr>\n",
       "      <th>CHINA</th>\n",
       "      <td>29</td>\n",
       "    </tr>\n",
       "    <tr>\n",
       "      <th>DENMARK</th>\n",
       "      <td>1</td>\n",
       "    </tr>\n",
       "    <tr>\n",
       "      <th>EGYPT</th>\n",
       "      <td>1</td>\n",
       "    </tr>\n",
       "    <tr>\n",
       "      <th>FRANCE</th>\n",
       "      <td>1</td>\n",
       "    </tr>\n",
       "    <tr>\n",
       "      <th>HONG KONG</th>\n",
       "      <td>19</td>\n",
       "    </tr>\n",
       "    <tr>\n",
       "      <th>INDIA</th>\n",
       "      <td>2</td>\n",
       "    </tr>\n",
       "    <tr>\n",
       "      <th>INDONESIA</th>\n",
       "      <td>6</td>\n",
       "    </tr>\n",
       "    <tr>\n",
       "      <th>IRAN, ISLAMIC REPUBLIC OF</th>\n",
       "      <td>3</td>\n",
       "    </tr>\n",
       "    <tr>\n",
       "      <th>JAPAN</th>\n",
       "      <td>1</td>\n",
       "    </tr>\n",
       "    <tr>\n",
       "      <th>KOREA, REPUBLIC OF</th>\n",
       "      <td>2</td>\n",
       "    </tr>\n",
       "    <tr>\n",
       "      <th>MACAO</th>\n",
       "      <td>1</td>\n",
       "    </tr>\n",
       "    <tr>\n",
       "      <th>MALAYSIA</th>\n",
       "      <td>40</td>\n",
       "    </tr>\n",
       "    <tr>\n",
       "      <th>MYANMAR</th>\n",
       "      <td>5</td>\n",
       "    </tr>\n",
       "    <tr>\n",
       "      <th>NEPAL</th>\n",
       "      <td>2</td>\n",
       "    </tr>\n",
       "    <tr>\n",
       "      <th>PHILIPPINES</th>\n",
       "      <td>103</td>\n",
       "    </tr>\n",
       "    <tr>\n",
       "      <th>SINGAPORE</th>\n",
       "      <td>24</td>\n",
       "    </tr>\n",
       "    <tr>\n",
       "      <th>...</th>\n",
       "      <th>...</th>\n",
       "      <td>...</td>\n",
       "    </tr>\n",
       "    <tr>\n",
       "      <th rowspan=\"14\" valign=\"top\">LWC</th>\n",
       "      <th>POLAND</th>\n",
       "      <td>2</td>\n",
       "    </tr>\n",
       "    <tr>\n",
       "      <th>QATAR</th>\n",
       "      <td>1</td>\n",
       "    </tr>\n",
       "    <tr>\n",
       "      <th>SOUTH AFRICA</th>\n",
       "      <td>2</td>\n",
       "    </tr>\n",
       "    <tr>\n",
       "      <th>SPAIN</th>\n",
       "      <td>3</td>\n",
       "    </tr>\n",
       "    <tr>\n",
       "      <th>SRI LANKA</th>\n",
       "      <td>12</td>\n",
       "    </tr>\n",
       "    <tr>\n",
       "      <th>SWEDEN</th>\n",
       "      <td>1</td>\n",
       "    </tr>\n",
       "    <tr>\n",
       "      <th>SWITZERLAND</th>\n",
       "      <td>5</td>\n",
       "    </tr>\n",
       "    <tr>\n",
       "      <th>TAIWAN, PROVINCE OF CHINA</th>\n",
       "      <td>25</td>\n",
       "    </tr>\n",
       "    <tr>\n",
       "      <th>THAILAND</th>\n",
       "      <td>53</td>\n",
       "    </tr>\n",
       "    <tr>\n",
       "      <th>TURKEY</th>\n",
       "      <td>1</td>\n",
       "    </tr>\n",
       "    <tr>\n",
       "      <th>UNITED ARAB EMIRATES</th>\n",
       "      <td>3</td>\n",
       "    </tr>\n",
       "    <tr>\n",
       "      <th>UNITED KINGDOM</th>\n",
       "      <td>23</td>\n",
       "    </tr>\n",
       "    <tr>\n",
       "      <th>UNITED STATES</th>\n",
       "      <td>199</td>\n",
       "    </tr>\n",
       "    <tr>\n",
       "      <th>VIET NAM</th>\n",
       "      <td>12</td>\n",
       "    </tr>\n",
       "    <tr>\n",
       "      <th rowspan=\"7\" valign=\"top\">RAB</th>\n",
       "      <th>AUSTRALIA</th>\n",
       "      <td>5</td>\n",
       "    </tr>\n",
       "    <tr>\n",
       "      <th>BRUNEI DARUSSALAM</th>\n",
       "      <td>710</td>\n",
       "    </tr>\n",
       "    <tr>\n",
       "      <th>CHINA</th>\n",
       "      <td>1</td>\n",
       "    </tr>\n",
       "    <tr>\n",
       "      <th>HONG KONG</th>\n",
       "      <td>2</td>\n",
       "    </tr>\n",
       "    <tr>\n",
       "      <th>MALAYSIA</th>\n",
       "      <td>5</td>\n",
       "    </tr>\n",
       "    <tr>\n",
       "      <th>PHILIPPINES</th>\n",
       "      <td>1</td>\n",
       "    </tr>\n",
       "    <tr>\n",
       "      <th>SAUDI ARABIA</th>\n",
       "      <td>1</td>\n",
       "    </tr>\n",
       "    <tr>\n",
       "      <th>SSI</th>\n",
       "      <th>SINGAPORE</th>\n",
       "      <td>1056</td>\n",
       "    </tr>\n",
       "    <tr>\n",
       "      <th rowspan=\"2\" valign=\"top\">TST</th>\n",
       "      <th>MALAYSIA</th>\n",
       "      <td>249</td>\n",
       "    </tr>\n",
       "    <tr>\n",
       "      <th>THAILAND</th>\n",
       "      <td>279</td>\n",
       "    </tr>\n",
       "    <tr>\n",
       "      <th rowspan=\"6\" valign=\"top\">TTW</th>\n",
       "      <th>AUSTRALIA</th>\n",
       "      <td>19</td>\n",
       "    </tr>\n",
       "    <tr>\n",
       "      <th>HONG KONG</th>\n",
       "      <td>3</td>\n",
       "    </tr>\n",
       "    <tr>\n",
       "      <th>MALAYSIA</th>\n",
       "      <td>1</td>\n",
       "    </tr>\n",
       "    <tr>\n",
       "      <th>SINGAPORE</th>\n",
       "      <td>73</td>\n",
       "    </tr>\n",
       "    <tr>\n",
       "      <th>SWEDEN</th>\n",
       "      <td>1</td>\n",
       "    </tr>\n",
       "    <tr>\n",
       "      <th>THAILAND</th>\n",
       "      <td>1</td>\n",
       "    </tr>\n",
       "  </tbody>\n",
       "</table>\n",
       "<p>410 rows × 1 columns</p>\n",
       "</div>"
      ],
      "text/plain": [
       "                                  Destination\n",
       "Agency Destination                           \n",
       "ADM    FRANCE                              52\n",
       "       GERMANY                              1\n",
       "       INDONESIA                            6\n",
       "       IRELAND                              1\n",
       "       ITALY                                2\n",
       "       MALAYSIA                             1\n",
       "       MEXICO                               1\n",
       "       MOROCCO                              3\n",
       "       NETHERLANDS                          9\n",
       "       RUSSIAN FEDERATION                   1\n",
       "       SPAIN                                1\n",
       "       SWITZERLAND                          1\n",
       "       UNITED KINGDOM                       3\n",
       "ART    CAMBODIA                            14\n",
       "       CHINA                               29\n",
       "       DENMARK                              1\n",
       "       EGYPT                                1\n",
       "       FRANCE                               1\n",
       "       HONG KONG                           19\n",
       "       INDIA                                2\n",
       "       INDONESIA                            6\n",
       "       IRAN, ISLAMIC REPUBLIC OF            3\n",
       "       JAPAN                                1\n",
       "       KOREA, REPUBLIC OF                   2\n",
       "       MACAO                                1\n",
       "       MALAYSIA                            40\n",
       "       MYANMAR                              5\n",
       "       NEPAL                                2\n",
       "       PHILIPPINES                        103\n",
       "       SINGAPORE                           24\n",
       "...                                       ...\n",
       "LWC    POLAND                               2\n",
       "       QATAR                                1\n",
       "       SOUTH AFRICA                         2\n",
       "       SPAIN                                3\n",
       "       SRI LANKA                           12\n",
       "       SWEDEN                               1\n",
       "       SWITZERLAND                          5\n",
       "       TAIWAN, PROVINCE OF CHINA           25\n",
       "       THAILAND                            53\n",
       "       TURKEY                               1\n",
       "       UNITED ARAB EMIRATES                 3\n",
       "       UNITED KINGDOM                      23\n",
       "       UNITED STATES                      199\n",
       "       VIET NAM                            12\n",
       "RAB    AUSTRALIA                            5\n",
       "       BRUNEI DARUSSALAM                  710\n",
       "       CHINA                                1\n",
       "       HONG KONG                            2\n",
       "       MALAYSIA                             5\n",
       "       PHILIPPINES                          1\n",
       "       SAUDI ARABIA                         1\n",
       "SSI    SINGAPORE                         1056\n",
       "TST    MALAYSIA                           249\n",
       "       THAILAND                           279\n",
       "TTW    AUSTRALIA                           19\n",
       "       HONG KONG                            3\n",
       "       MALAYSIA                             1\n",
       "       SINGAPORE                           73\n",
       "       SWEDEN                               1\n",
       "       THAILAND                             1\n",
       "\n",
       "[410 rows x 1 columns]"
      ]
     },
     "execution_count": 18,
     "metadata": {},
     "output_type": "execute_result"
    }
   ],
   "source": [
    "# Breakout of Destinations each Agency services\n",
    "agency_dest = insurance.groupby(['Agency','Destination']).agg({'Destination':'count'})\n",
    "agency_dest"
   ]
  },
  {
   "cell_type": "markdown",
   "metadata": {},
   "source": [
    "Interestingly, JWT has 749 sales - all of which for 118 year olds travelling to India, 99.47% not resulting in a claim."
   ]
  },
  {
   "cell_type": "code",
   "execution_count": 19,
   "metadata": {},
   "outputs": [
    {
     "data": {
      "text/html": [
       "<div>\n",
       "<style scoped>\n",
       "    .dataframe tbody tr th:only-of-type {\n",
       "        vertical-align: middle;\n",
       "    }\n",
       "\n",
       "    .dataframe tbody tr th {\n",
       "        vertical-align: top;\n",
       "    }\n",
       "\n",
       "    .dataframe thead th {\n",
       "        text-align: right;\n",
       "    }\n",
       "</style>\n",
       "<table border=\"1\" class=\"dataframe\">\n",
       "  <thead>\n",
       "    <tr style=\"text-align: right;\">\n",
       "      <th></th>\n",
       "      <th></th>\n",
       "      <th>Count</th>\n",
       "      <th>Total Purchases</th>\n",
       "      <th>% of Total</th>\n",
       "    </tr>\n",
       "    <tr>\n",
       "      <th>Agency</th>\n",
       "      <th>Claim</th>\n",
       "      <th></th>\n",
       "      <th></th>\n",
       "      <th></th>\n",
       "    </tr>\n",
       "  </thead>\n",
       "  <tbody>\n",
       "    <tr>\n",
       "      <th>ADM</th>\n",
       "      <th>No</th>\n",
       "      <td>82</td>\n",
       "      <td>82</td>\n",
       "      <td>100.00</td>\n",
       "    </tr>\n",
       "    <tr>\n",
       "      <th rowspan=\"2\" valign=\"top\">ART</th>\n",
       "      <th>No</th>\n",
       "      <td>330</td>\n",
       "      <td>331</td>\n",
       "      <td>99.70</td>\n",
       "    </tr>\n",
       "    <tr>\n",
       "      <th>Yes</th>\n",
       "      <td>1</td>\n",
       "      <td>331</td>\n",
       "      <td>0.30</td>\n",
       "    </tr>\n",
       "    <tr>\n",
       "      <th rowspan=\"2\" valign=\"top\">C2B</th>\n",
       "      <th>No</th>\n",
       "      <td>7720</td>\n",
       "      <td>8267</td>\n",
       "      <td>93.38</td>\n",
       "    </tr>\n",
       "    <tr>\n",
       "      <th>Yes</th>\n",
       "      <td>547</td>\n",
       "      <td>8267</td>\n",
       "      <td>6.62</td>\n",
       "    </tr>\n",
       "    <tr>\n",
       "      <th rowspan=\"2\" valign=\"top\">CBH</th>\n",
       "      <th>No</th>\n",
       "      <td>100</td>\n",
       "      <td>101</td>\n",
       "      <td>99.01</td>\n",
       "    </tr>\n",
       "    <tr>\n",
       "      <th>Yes</th>\n",
       "      <td>1</td>\n",
       "      <td>101</td>\n",
       "      <td>0.99</td>\n",
       "    </tr>\n",
       "    <tr>\n",
       "      <th rowspan=\"2\" valign=\"top\">CCR</th>\n",
       "      <th>No</th>\n",
       "      <td>191</td>\n",
       "      <td>194</td>\n",
       "      <td>98.45</td>\n",
       "    </tr>\n",
       "    <tr>\n",
       "      <th>Yes</th>\n",
       "      <td>3</td>\n",
       "      <td>194</td>\n",
       "      <td>1.55</td>\n",
       "    </tr>\n",
       "    <tr>\n",
       "      <th rowspan=\"2\" valign=\"top\">CSR</th>\n",
       "      <th>No</th>\n",
       "      <td>85</td>\n",
       "      <td>86</td>\n",
       "      <td>98.84</td>\n",
       "    </tr>\n",
       "    <tr>\n",
       "      <th>Yes</th>\n",
       "      <td>1</td>\n",
       "      <td>86</td>\n",
       "      <td>1.16</td>\n",
       "    </tr>\n",
       "    <tr>\n",
       "      <th rowspan=\"2\" valign=\"top\">CWT</th>\n",
       "      <th>No</th>\n",
       "      <td>8494</td>\n",
       "      <td>8580</td>\n",
       "      <td>99.00</td>\n",
       "    </tr>\n",
       "    <tr>\n",
       "      <th>Yes</th>\n",
       "      <td>86</td>\n",
       "      <td>8580</td>\n",
       "      <td>1.00</td>\n",
       "    </tr>\n",
       "    <tr>\n",
       "      <th rowspan=\"2\" valign=\"top\">EPX</th>\n",
       "      <th>No</th>\n",
       "      <td>34924</td>\n",
       "      <td>35119</td>\n",
       "      <td>99.44</td>\n",
       "    </tr>\n",
       "    <tr>\n",
       "      <th>Yes</th>\n",
       "      <td>195</td>\n",
       "      <td>35119</td>\n",
       "      <td>0.56</td>\n",
       "    </tr>\n",
       "    <tr>\n",
       "      <th rowspan=\"2\" valign=\"top\">JWT</th>\n",
       "      <th>No</th>\n",
       "      <td>745</td>\n",
       "      <td>749</td>\n",
       "      <td>99.47</td>\n",
       "    </tr>\n",
       "    <tr>\n",
       "      <th>Yes</th>\n",
       "      <td>4</td>\n",
       "      <td>749</td>\n",
       "      <td>0.53</td>\n",
       "    </tr>\n",
       "    <tr>\n",
       "      <th rowspan=\"2\" valign=\"top\">JZI</th>\n",
       "      <th>No</th>\n",
       "      <td>6298</td>\n",
       "      <td>6329</td>\n",
       "      <td>99.51</td>\n",
       "    </tr>\n",
       "    <tr>\n",
       "      <th>Yes</th>\n",
       "      <td>31</td>\n",
       "      <td>6329</td>\n",
       "      <td>0.49</td>\n",
       "    </tr>\n",
       "    <tr>\n",
       "      <th rowspan=\"2\" valign=\"top\">KML</th>\n",
       "      <th>No</th>\n",
       "      <td>384</td>\n",
       "      <td>392</td>\n",
       "      <td>97.96</td>\n",
       "    </tr>\n",
       "    <tr>\n",
       "      <th>Yes</th>\n",
       "      <td>8</td>\n",
       "      <td>392</td>\n",
       "      <td>2.04</td>\n",
       "    </tr>\n",
       "    <tr>\n",
       "      <th rowspan=\"2\" valign=\"top\">LWC</th>\n",
       "      <th>No</th>\n",
       "      <td>653</td>\n",
       "      <td>689</td>\n",
       "      <td>94.78</td>\n",
       "    </tr>\n",
       "    <tr>\n",
       "      <th>Yes</th>\n",
       "      <td>36</td>\n",
       "      <td>689</td>\n",
       "      <td>5.22</td>\n",
       "    </tr>\n",
       "    <tr>\n",
       "      <th rowspan=\"2\" valign=\"top\">RAB</th>\n",
       "      <th>No</th>\n",
       "      <td>724</td>\n",
       "      <td>725</td>\n",
       "      <td>99.86</td>\n",
       "    </tr>\n",
       "    <tr>\n",
       "      <th>Yes</th>\n",
       "      <td>1</td>\n",
       "      <td>725</td>\n",
       "      <td>0.14</td>\n",
       "    </tr>\n",
       "    <tr>\n",
       "      <th rowspan=\"2\" valign=\"top\">SSI</th>\n",
       "      <th>No</th>\n",
       "      <td>1049</td>\n",
       "      <td>1056</td>\n",
       "      <td>99.34</td>\n",
       "    </tr>\n",
       "    <tr>\n",
       "      <th>Yes</th>\n",
       "      <td>7</td>\n",
       "      <td>1056</td>\n",
       "      <td>0.66</td>\n",
       "    </tr>\n",
       "    <tr>\n",
       "      <th rowspan=\"2\" valign=\"top\">TST</th>\n",
       "      <th>No</th>\n",
       "      <td>526</td>\n",
       "      <td>528</td>\n",
       "      <td>99.62</td>\n",
       "    </tr>\n",
       "    <tr>\n",
       "      <th>Yes</th>\n",
       "      <td>2</td>\n",
       "      <td>528</td>\n",
       "      <td>0.38</td>\n",
       "    </tr>\n",
       "    <tr>\n",
       "      <th rowspan=\"2\" valign=\"top\">TTW</th>\n",
       "      <th>No</th>\n",
       "      <td>94</td>\n",
       "      <td>98</td>\n",
       "      <td>95.92</td>\n",
       "    </tr>\n",
       "    <tr>\n",
       "      <th>Yes</th>\n",
       "      <td>4</td>\n",
       "      <td>98</td>\n",
       "      <td>4.08</td>\n",
       "    </tr>\n",
       "  </tbody>\n",
       "</table>\n",
       "</div>"
      ],
      "text/plain": [
       "              Count  Total Purchases  % of Total\n",
       "Agency Claim                                    \n",
       "ADM    No        82               82      100.00\n",
       "ART    No       330              331       99.70\n",
       "       Yes        1              331        0.30\n",
       "C2B    No      7720             8267       93.38\n",
       "       Yes      547             8267        6.62\n",
       "CBH    No       100              101       99.01\n",
       "       Yes        1              101        0.99\n",
       "CCR    No       191              194       98.45\n",
       "       Yes        3              194        1.55\n",
       "CSR    No        85               86       98.84\n",
       "       Yes        1               86        1.16\n",
       "CWT    No      8494             8580       99.00\n",
       "       Yes       86             8580        1.00\n",
       "EPX    No     34924            35119       99.44\n",
       "       Yes      195            35119        0.56\n",
       "JWT    No       745              749       99.47\n",
       "       Yes        4              749        0.53\n",
       "JZI    No      6298             6329       99.51\n",
       "       Yes       31             6329        0.49\n",
       "KML    No       384              392       97.96\n",
       "       Yes        8              392        2.04\n",
       "LWC    No       653              689       94.78\n",
       "       Yes       36              689        5.22\n",
       "RAB    No       724              725       99.86\n",
       "       Yes        1              725        0.14\n",
       "SSI    No      1049             1056       99.34\n",
       "       Yes        7             1056        0.66\n",
       "TST    No       526              528       99.62\n",
       "       Yes        2              528        0.38\n",
       "TTW    No        94               98       95.92\n",
       "       Yes        4               98        4.08"
      ]
     },
     "execution_count": 19,
     "metadata": {},
     "output_type": "execute_result"
    }
   ],
   "source": [
    "# Calculate Claim Status proporations per Agency\n",
    "agency_claim = insurance.groupby(['Agency','Claim']).agg({'Claim':'count'})\n",
    "agency_claim.rename(columns={'Claim':'Count'}, inplace=True)\n",
    "\n",
    "agency_total = insurance.groupby(['Agency']).agg({'Claim':'count'})\n",
    "agency_total.rename(columns={'Claim':'Total Purchases'}, inplace=True)\n",
    "\n",
    "\n",
    "agency_claim = agency_claim.join(agency_total, how='outer', on='Agency')\n",
    "agency_claim['% of Total'] = round(agency_claim['Count'] / agency_claim['Total Purchases'] * 100, 2)\n",
    "\n",
    "agency_claim"
   ]
  },
  {
   "cell_type": "markdown",
   "metadata": {},
   "source": [
    "Very few insurance purchases result in a claim; the vast majority of agencies have less then 5% of sales result in a claim."
   ]
  },
  {
   "cell_type": "markdown",
   "metadata": {},
   "source": [
    "## 2.1.3 Claims Analysis"
   ]
  },
  {
   "cell_type": "code",
   "execution_count": 20,
   "metadata": {},
   "outputs": [
    {
     "name": "stdout",
     "output_type": "stream",
     "text": [
      "1.46% of all claims are activated.\n"
     ]
    }
   ],
   "source": [
    "# Overall Claim Activation Rate\n",
    "insurance['Claim_bool'] = np.where(insurance['Claim'] == 'Yes', 1, 0)\n",
    "\n",
    "percent = round(insurance['Claim_bool'].sum() / insurance['Claim'].count() * 100,2)\n",
    "print('{}% of all claims are activated.'.format(percent))"
   ]
  },
  {
   "cell_type": "code",
   "execution_count": 21,
   "metadata": {},
   "outputs": [],
   "source": [
    "def calcClaimActivationRate(df, field):\n",
    "    df_grouped = df.groupby(field)\n",
    "    df_grouped = df_grouped.agg({'Claim':'count','Claim_bool':'sum'})\n",
    "    df_grouped.reset_index(inplace=True)\n",
    "    df_grouped.rename(columns={'Claim':'Total Claims', 'Claim_bool':'Count of Activated Claims'}, inplace=True)\n",
    "\n",
    "    df_grouped['Claim Activation Rate'] = df_grouped['Count of Activated Claims'] / df_grouped['Total Claims'] * 100\n",
    "\n",
    "    return df_grouped"
   ]
  },
  {
   "cell_type": "code",
   "execution_count": 22,
   "metadata": {},
   "outputs": [
    {
     "data": {
      "text/html": [
       "<div>\n",
       "<style scoped>\n",
       "    .dataframe tbody tr th:only-of-type {\n",
       "        vertical-align: middle;\n",
       "    }\n",
       "\n",
       "    .dataframe tbody tr th {\n",
       "        vertical-align: top;\n",
       "    }\n",
       "\n",
       "    .dataframe thead th {\n",
       "        text-align: right;\n",
       "    }\n",
       "</style>\n",
       "<table border=\"1\" class=\"dataframe\">\n",
       "  <thead>\n",
       "    <tr style=\"text-align: right;\">\n",
       "      <th></th>\n",
       "      <th>Age</th>\n",
       "      <th>Total Claims</th>\n",
       "      <th>Count of Activated Claims</th>\n",
       "      <th>Claim Activation Rate</th>\n",
       "    </tr>\n",
       "  </thead>\n",
       "  <tbody>\n",
       "    <tr>\n",
       "      <th>68</th>\n",
       "      <td>69</td>\n",
       "      <td>177</td>\n",
       "      <td>7</td>\n",
       "      <td>3.954802</td>\n",
       "    </tr>\n",
       "    <tr>\n",
       "      <th>71</th>\n",
       "      <td>72</td>\n",
       "      <td>105</td>\n",
       "      <td>4</td>\n",
       "      <td>3.809524</td>\n",
       "    </tr>\n",
       "    <tr>\n",
       "      <th>29</th>\n",
       "      <td>30</td>\n",
       "      <td>1341</td>\n",
       "      <td>47</td>\n",
       "      <td>3.504847</td>\n",
       "    </tr>\n",
       "    <tr>\n",
       "      <th>27</th>\n",
       "      <td>28</td>\n",
       "      <td>1255</td>\n",
       "      <td>42</td>\n",
       "      <td>3.346614</td>\n",
       "    </tr>\n",
       "    <tr>\n",
       "      <th>23</th>\n",
       "      <td>24</td>\n",
       "      <td>626</td>\n",
       "      <td>20</td>\n",
       "      <td>3.194888</td>\n",
       "    </tr>\n",
       "    <tr>\n",
       "      <th>31</th>\n",
       "      <td>32</td>\n",
       "      <td>1082</td>\n",
       "      <td>34</td>\n",
       "      <td>3.142329</td>\n",
       "    </tr>\n",
       "    <tr>\n",
       "      <th>25</th>\n",
       "      <td>26</td>\n",
       "      <td>987</td>\n",
       "      <td>30</td>\n",
       "      <td>3.039514</td>\n",
       "    </tr>\n",
       "    <tr>\n",
       "      <th>21</th>\n",
       "      <td>22</td>\n",
       "      <td>521</td>\n",
       "      <td>14</td>\n",
       "      <td>2.687140</td>\n",
       "    </tr>\n",
       "    <tr>\n",
       "      <th>22</th>\n",
       "      <td>23</td>\n",
       "      <td>525</td>\n",
       "      <td>14</td>\n",
       "      <td>2.666667</td>\n",
       "    </tr>\n",
       "    <tr>\n",
       "      <th>26</th>\n",
       "      <td>27</td>\n",
       "      <td>1065</td>\n",
       "      <td>28</td>\n",
       "      <td>2.629108</td>\n",
       "    </tr>\n",
       "  </tbody>\n",
       "</table>\n",
       "</div>"
      ],
      "text/plain": [
       "    Age  Total Claims  Count of Activated Claims  Claim Activation Rate\n",
       "68   69           177                          7               3.954802\n",
       "71   72           105                          4               3.809524\n",
       "29   30          1341                         47               3.504847\n",
       "27   28          1255                         42               3.346614\n",
       "23   24           626                         20               3.194888\n",
       "31   32          1082                         34               3.142329\n",
       "25   26           987                         30               3.039514\n",
       "21   22           521                         14               2.687140\n",
       "22   23           525                         14               2.666667\n",
       "26   27          1065                         28               2.629108"
      ]
     },
     "execution_count": 22,
     "metadata": {},
     "output_type": "execute_result"
    }
   ],
   "source": [
    "# Calculate Claim Activation Rate by Age\n",
    "age = calcClaimActivationRate(insurance, 'Age')\n",
    "\n",
    "# filter for ages with at least 500 claims and sort\n",
    "age = age[age['Total Claims'] >= 100]\n",
    "age.sort_values(by='Claim Activation Rate', ascending = False, inplace=True)\n",
    "age.head(10)"
   ]
  },
  {
   "cell_type": "code",
   "execution_count": 23,
   "metadata": {},
   "outputs": [
    {
     "data": {
      "text/plain": [
       "Text(0.5, 1.0, 'Claim Activation Rate by Age')"
      ]
     },
     "execution_count": 23,
     "metadata": {},
     "output_type": "execute_result"
    },
    {
     "data": {
      "image/png": "[encoded data removed]",
      "text/plain": [
       "<Figure size 1152x432 with 1 Axes>"
      ]
     },
     "metadata": {
      "needs_background": "light"
     },
     "output_type": "display_data"
    }
   ],
   "source": [
    "plt.figure(figsize=(16, 6))\n",
    "sns.barplot(x='Age', y='Claim Activation Rate', data=age).set_title('Claim Activation Rate by Age')"
   ]
  },
  {
   "cell_type": "markdown",
   "metadata": {},
   "source": [
    "Passengers aged 22-32 as well as 69 and 72 have the highest claim activation rates."
   ]
  },
  {
   "cell_type": "code",
   "execution_count": 24,
   "metadata": {},
   "outputs": [
    {
     "data": {
      "text/html": [
       "<div>\n",
       "<style scoped>\n",
       "    .dataframe tbody tr th:only-of-type {\n",
       "        vertical-align: middle;\n",
       "    }\n",
       "\n",
       "    .dataframe tbody tr th {\n",
       "        vertical-align: top;\n",
       "    }\n",
       "\n",
       "    .dataframe thead th {\n",
       "        text-align: right;\n",
       "    }\n",
       "</style>\n",
       "<table border=\"1\" class=\"dataframe\">\n",
       "  <thead>\n",
       "    <tr style=\"text-align: right;\">\n",
       "      <th></th>\n",
       "      <th>Age</th>\n",
       "      <th>Total Claims</th>\n",
       "      <th>Count of Activated Claims</th>\n",
       "      <th>Claim Activation Rate</th>\n",
       "    </tr>\n",
       "  </thead>\n",
       "  <tbody>\n",
       "    <tr>\n",
       "      <th>35</th>\n",
       "      <td>36</td>\n",
       "      <td>24142</td>\n",
       "      <td>160</td>\n",
       "      <td>0.662745</td>\n",
       "    </tr>\n",
       "    <tr>\n",
       "      <th>30</th>\n",
       "      <td>31</td>\n",
       "      <td>2663</td>\n",
       "      <td>45</td>\n",
       "      <td>1.689824</td>\n",
       "    </tr>\n",
       "    <tr>\n",
       "      <th>47</th>\n",
       "      <td>48</td>\n",
       "      <td>2405</td>\n",
       "      <td>22</td>\n",
       "      <td>0.914761</td>\n",
       "    </tr>\n",
       "    <tr>\n",
       "      <th>34</th>\n",
       "      <td>35</td>\n",
       "      <td>2348</td>\n",
       "      <td>31</td>\n",
       "      <td>1.320273</td>\n",
       "    </tr>\n",
       "    <tr>\n",
       "      <th>29</th>\n",
       "      <td>30</td>\n",
       "      <td>1341</td>\n",
       "      <td>47</td>\n",
       "      <td>3.504847</td>\n",
       "    </tr>\n",
       "  </tbody>\n",
       "</table>\n",
       "</div>"
      ],
      "text/plain": [
       "    Age  Total Claims  Count of Activated Claims  Claim Activation Rate\n",
       "35   36         24142                        160               0.662745\n",
       "30   31          2663                         45               1.689824\n",
       "47   48          2405                         22               0.914761\n",
       "34   35          2348                         31               1.320273\n",
       "29   30          1341                         47               3.504847"
      ]
     },
     "execution_count": 24,
     "metadata": {},
     "output_type": "execute_result"
    }
   ],
   "source": [
    "# which ages purchase the most insurance\n",
    "age.sort_values(by='Total Claims', ascending = False, inplace=True)\n",
    "age.head(5)"
   ]
  },
  {
   "cell_type": "code",
   "execution_count": 25,
   "metadata": {},
   "outputs": [
    {
     "data": {
      "text/plain": [
       "Text(0.5, 1.0, 'Count of Claims Sales by Age')"
      ]
     },
     "execution_count": 25,
     "metadata": {},
     "output_type": "execute_result"
    },
    {
     "data": {
      "image/png": "[encoded data removed]",
      "text/plain": [
       "<Figure size 1152x432 with 1 Axes>"
      ]
     },
     "metadata": {
      "needs_background": "light"
     },
     "output_type": "display_data"
    }
   ],
   "source": [
    "plt.figure(figsize=(16, 6))\n",
    "sns.barplot(x='Age', y='Total Claims', data=age).set_title('Count of Claims Sales by Age')"
   ]
  },
  {
   "cell_type": "markdown",
   "metadata": {},
   "source": [
    "36 year olds purchase the most insurance, by far - almost 10x as much as the second-most insured age."
   ]
  },
  {
   "cell_type": "code",
   "execution_count": 26,
   "metadata": {},
   "outputs": [
    {
     "data": {
      "text/html": [
       "<div>\n",
       "<style scoped>\n",
       "    .dataframe tbody tr th:only-of-type {\n",
       "        vertical-align: middle;\n",
       "    }\n",
       "\n",
       "    .dataframe tbody tr th {\n",
       "        vertical-align: top;\n",
       "    }\n",
       "\n",
       "    .dataframe thead th {\n",
       "        text-align: right;\n",
       "    }\n",
       "</style>\n",
       "<table border=\"1\" class=\"dataframe\">\n",
       "  <thead>\n",
       "    <tr style=\"text-align: right;\">\n",
       "      <th></th>\n",
       "      <th>Age Group</th>\n",
       "      <th>Total Claims</th>\n",
       "      <th>Count of Activated Claims</th>\n",
       "      <th>Claim Activation Rate</th>\n",
       "    </tr>\n",
       "  </thead>\n",
       "  <tbody>\n",
       "    <tr>\n",
       "      <th>0</th>\n",
       "      <td>Young</td>\n",
       "      <td>7768</td>\n",
       "      <td>210</td>\n",
       "      <td>2.703399</td>\n",
       "    </tr>\n",
       "    <tr>\n",
       "      <th>2</th>\n",
       "      <td>Senior</td>\n",
       "      <td>3197</td>\n",
       "      <td>57</td>\n",
       "      <td>1.782921</td>\n",
       "    </tr>\n",
       "    <tr>\n",
       "      <th>1</th>\n",
       "      <td>Middle-Aged</td>\n",
       "      <td>51377</td>\n",
       "      <td>650</td>\n",
       "      <td>1.265158</td>\n",
       "    </tr>\n",
       "    <tr>\n",
       "      <th>3</th>\n",
       "      <td>118</td>\n",
       "      <td>984</td>\n",
       "      <td>10</td>\n",
       "      <td>1.016260</td>\n",
       "    </tr>\n",
       "  </tbody>\n",
       "</table>\n",
       "</div>"
      ],
      "text/plain": [
       "     Age Group  Total Claims  Count of Activated Claims  Claim Activation Rate\n",
       "0        Young          7768                        210               2.703399\n",
       "2       Senior          3197                         57               1.782921\n",
       "1  Middle-Aged         51377                        650               1.265158\n",
       "3          118           984                         10               1.016260"
      ]
     },
     "execution_count": 26,
     "metadata": {},
     "output_type": "execute_result"
    }
   ],
   "source": [
    "# Calculate Claim Activation Rate by Age Group\n",
    "ageGroup = calcClaimActivationRate(insurance, 'Age Group')\n",
    "ageGroup.sort_values(by='Claim Activation Rate', ascending = False, inplace=True)\n",
    "ageGroup.head(10)"
   ]
  },
  {
   "cell_type": "markdown",
   "metadata": {},
   "source": [
    "Though Middle-Aged passengers purchase more insurance packages, younger passengers have higher claim rates."
   ]
  },
  {
   "cell_type": "code",
   "execution_count": 27,
   "metadata": {},
   "outputs": [
    {
     "data": {
      "text/html": [
       "<div>\n",
       "<style scoped>\n",
       "    .dataframe tbody tr th:only-of-type {\n",
       "        vertical-align: middle;\n",
       "    }\n",
       "\n",
       "    .dataframe tbody tr th {\n",
       "        vertical-align: top;\n",
       "    }\n",
       "\n",
       "    .dataframe thead th {\n",
       "        text-align: right;\n",
       "    }\n",
       "</style>\n",
       "<table border=\"1\" class=\"dataframe\">\n",
       "  <thead>\n",
       "    <tr style=\"text-align: right;\">\n",
       "      <th></th>\n",
       "      <th>Gender</th>\n",
       "      <th>Total Claims</th>\n",
       "      <th>Count of Activated Claims</th>\n",
       "      <th>Claim Activation Rate</th>\n",
       "    </tr>\n",
       "  </thead>\n",
       "  <tbody>\n",
       "    <tr>\n",
       "      <th>0</th>\n",
       "      <td>F</td>\n",
       "      <td>8872</td>\n",
       "      <td>346</td>\n",
       "      <td>3.899910</td>\n",
       "    </tr>\n",
       "    <tr>\n",
       "      <th>1</th>\n",
       "      <td>M</td>\n",
       "      <td>9347</td>\n",
       "      <td>293</td>\n",
       "      <td>3.134696</td>\n",
       "    </tr>\n",
       "  </tbody>\n",
       "</table>\n",
       "</div>"
      ],
      "text/plain": [
       "  Gender  Total Claims  Count of Activated Claims  Claim Activation Rate\n",
       "0      F          8872                        346               3.899910\n",
       "1      M          9347                        293               3.134696"
      ]
     },
     "execution_count": 27,
     "metadata": {},
     "output_type": "execute_result"
    }
   ],
   "source": [
    "# Calculate Claim Activation Rate by Gender\n",
    "gender = calcClaimActivationRate(insurance, 'Gender')\n",
    "gender.sort_values(by='Claim Activation Rate', ascending = False, inplace=True)\n",
    "gender"
   ]
  },
  {
   "cell_type": "markdown",
   "metadata": {},
   "source": [
    "Quite similar between genders, with females having a slightly higher activation rate."
   ]
  },
  {
   "cell_type": "code",
   "execution_count": 28,
   "metadata": {},
   "outputs": [
    {
     "data": {
      "text/html": [
       "<div>\n",
       "<style scoped>\n",
       "    .dataframe tbody tr th:only-of-type {\n",
       "        vertical-align: middle;\n",
       "    }\n",
       "\n",
       "    .dataframe tbody tr th {\n",
       "        vertical-align: top;\n",
       "    }\n",
       "\n",
       "    .dataframe thead th {\n",
       "        text-align: right;\n",
       "    }\n",
       "</style>\n",
       "<table border=\"1\" class=\"dataframe\">\n",
       "  <thead>\n",
       "    <tr style=\"text-align: right;\">\n",
       "      <th></th>\n",
       "      <th>Destination</th>\n",
       "      <th>Total Claims</th>\n",
       "      <th>Count of Activated Claims</th>\n",
       "      <th>Claim Activation Rate</th>\n",
       "    </tr>\n",
       "  </thead>\n",
       "  <tbody>\n",
       "    <tr>\n",
       "      <th>28</th>\n",
       "      <td>COSTA RICA</td>\n",
       "      <td>7</td>\n",
       "      <td>1</td>\n",
       "      <td>14.285714</td>\n",
       "    </tr>\n",
       "    <tr>\n",
       "      <th>20</th>\n",
       "      <td>BULGARIA</td>\n",
       "      <td>12</td>\n",
       "      <td>1</td>\n",
       "      <td>8.333333</td>\n",
       "    </tr>\n",
       "    <tr>\n",
       "      <th>2</th>\n",
       "      <td>ARGENTINA</td>\n",
       "      <td>22</td>\n",
       "      <td>1</td>\n",
       "      <td>4.545455</td>\n",
       "    </tr>\n",
       "    <tr>\n",
       "      <th>118</th>\n",
       "      <td>SINGAPORE</td>\n",
       "      <td>13255</td>\n",
       "      <td>562</td>\n",
       "      <td>4.239909</td>\n",
       "    </tr>\n",
       "    <tr>\n",
       "      <th>121</th>\n",
       "      <td>SOUTH AFRICA</td>\n",
       "      <td>162</td>\n",
       "      <td>5</td>\n",
       "      <td>3.086420</td>\n",
       "    </tr>\n",
       "  </tbody>\n",
       "</table>\n",
       "</div>"
      ],
      "text/plain": [
       "      Destination  Total Claims  Count of Activated Claims  \\\n",
       "28     COSTA RICA             7                          1   \n",
       "20       BULGARIA            12                          1   \n",
       "2       ARGENTINA            22                          1   \n",
       "118     SINGAPORE         13255                        562   \n",
       "121  SOUTH AFRICA           162                          5   \n",
       "\n",
       "     Claim Activation Rate  \n",
       "28               14.285714  \n",
       "20                8.333333  \n",
       "2                 4.545455  \n",
       "118               4.239909  \n",
       "121               3.086420  "
      ]
     },
     "execution_count": 28,
     "metadata": {},
     "output_type": "execute_result"
    }
   ],
   "source": [
    "# Calculate Claim Activation Rate by Destination\n",
    "dest = calcClaimActivationRate(insurance,'Destination')\n",
    "dest.sort_values(by='Claim Activation Rate', ascending = False, inplace=True)\n",
    "dest.head(5)"
   ]
  },
  {
   "cell_type": "code",
   "execution_count": 29,
   "metadata": {},
   "outputs": [
    {
     "data": {
      "text/html": [
       "<div>\n",
       "<style scoped>\n",
       "    .dataframe tbody tr th:only-of-type {\n",
       "        vertical-align: middle;\n",
       "    }\n",
       "\n",
       "    .dataframe tbody tr th {\n",
       "        vertical-align: top;\n",
       "    }\n",
       "\n",
       "    .dataframe thead th {\n",
       "        text-align: right;\n",
       "    }\n",
       "</style>\n",
       "<table border=\"1\" class=\"dataframe\">\n",
       "  <thead>\n",
       "    <tr style=\"text-align: right;\">\n",
       "      <th></th>\n",
       "      <th>Destination</th>\n",
       "      <th>Total Claims</th>\n",
       "      <th>Count of Activated Claims</th>\n",
       "      <th>Claim Activation Rate</th>\n",
       "    </tr>\n",
       "  </thead>\n",
       "  <tbody>\n",
       "    <tr>\n",
       "      <th>118</th>\n",
       "      <td>SINGAPORE</td>\n",
       "      <td>13255</td>\n",
       "      <td>562</td>\n",
       "      <td>4.239909</td>\n",
       "    </tr>\n",
       "    <tr>\n",
       "      <th>26</th>\n",
       "      <td>CHINA</td>\n",
       "      <td>4796</td>\n",
       "      <td>46</td>\n",
       "      <td>0.959133</td>\n",
       "    </tr>\n",
       "    <tr>\n",
       "      <th>4</th>\n",
       "      <td>AUSTRALIA</td>\n",
       "      <td>3694</td>\n",
       "      <td>38</td>\n",
       "      <td>1.028695</td>\n",
       "    </tr>\n",
       "    <tr>\n",
       "      <th>140</th>\n",
       "      <td>UNITED STATES</td>\n",
       "      <td>2530</td>\n",
       "      <td>37</td>\n",
       "      <td>1.462451</td>\n",
       "    </tr>\n",
       "    <tr>\n",
       "      <th>129</th>\n",
       "      <td>THAILAND</td>\n",
       "      <td>5894</td>\n",
       "      <td>34</td>\n",
       "      <td>0.576858</td>\n",
       "    </tr>\n",
       "  </tbody>\n",
       "</table>\n",
       "</div>"
      ],
      "text/plain": [
       "       Destination  Total Claims  Count of Activated Claims  \\\n",
       "118      SINGAPORE         13255                        562   \n",
       "26           CHINA          4796                         46   \n",
       "4        AUSTRALIA          3694                         38   \n",
       "140  UNITED STATES          2530                         37   \n",
       "129       THAILAND          5894                         34   \n",
       "\n",
       "     Claim Activation Rate  \n",
       "118               4.239909  \n",
       "26                0.959133  \n",
       "4                 1.028695  \n",
       "140               1.462451  \n",
       "129               0.576858  "
      ]
     },
     "execution_count": 29,
     "metadata": {},
     "output_type": "execute_result"
    }
   ],
   "source": [
    "# Total Claims Count by Destination\n",
    "dest.sort_values(by='Count of Activated Claims', ascending = False, inplace=True)\n",
    "dest.head(5)"
   ]
  },
  {
   "cell_type": "markdown",
   "metadata": {},
   "source": [
    "## 2.2 Travel Insurance Key Business Insights"
   ]
  },
  {
   "cell_type": "code",
   "execution_count": 30,
   "metadata": {},
   "outputs": [
    {
     "data": {
      "text/plain": [
       "<seaborn.axisgrid.PairGrid at 0x7f069a0f1630>"
      ]
     },
     "execution_count": 30,
     "metadata": {},
     "output_type": "execute_result"
    },
    {
     "data": {
      "image/png": "[encoded data removed]",
      "text/plain": [
       "<Figure size 900x900 with 30 Axes>"
      ]
     },
     "metadata": {
      "needs_background": "light"
     },
     "output_type": "display_data"
    }
   ],
   "source": [
    "# Analysis of relationships between metrics\n",
    "sns.pairplot(insurance[['Duration','Age','Net Sales','Commision (in value)','Claim_bool']])"
   ]
  },
  {
   "cell_type": "code",
   "execution_count": 31,
   "metadata": {},
   "outputs": [
    {
     "data": {
      "text/html": [
       "<div>\n",
       "<style scoped>\n",
       "    .dataframe tbody tr th:only-of-type {\n",
       "        vertical-align: middle;\n",
       "    }\n",
       "\n",
       "    .dataframe tbody tr th {\n",
       "        vertical-align: top;\n",
       "    }\n",
       "\n",
       "    .dataframe thead th {\n",
       "        text-align: right;\n",
       "    }\n",
       "</style>\n",
       "<table border=\"1\" class=\"dataframe\">\n",
       "  <thead>\n",
       "    <tr style=\"text-align: right;\">\n",
       "      <th></th>\n",
       "      <th>Duration</th>\n",
       "      <th>Age</th>\n",
       "      <th>Net Sales</th>\n",
       "      <th>Commision (in value)</th>\n",
       "      <th>Claim_bool</th>\n",
       "    </tr>\n",
       "  </thead>\n",
       "  <tbody>\n",
       "    <tr>\n",
       "      <th>Duration</th>\n",
       "      <td>1.000000</td>\n",
       "      <td>0.002468</td>\n",
       "      <td>0.429235</td>\n",
       "      <td>0.344772</td>\n",
       "      <td>0.073607</td>\n",
       "    </tr>\n",
       "    <tr>\n",
       "      <th>Age</th>\n",
       "      <td>0.002468</td>\n",
       "      <td>1.000000</td>\n",
       "      <td>0.037756</td>\n",
       "      <td>0.118348</td>\n",
       "      <td>-0.011614</td>\n",
       "    </tr>\n",
       "    <tr>\n",
       "      <th>Net Sales</th>\n",
       "      <td>0.429235</td>\n",
       "      <td>0.037756</td>\n",
       "      <td>1.000000</td>\n",
       "      <td>0.651315</td>\n",
       "      <td>0.133931</td>\n",
       "    </tr>\n",
       "    <tr>\n",
       "      <th>Commision (in value)</th>\n",
       "      <td>0.344772</td>\n",
       "      <td>0.118348</td>\n",
       "      <td>0.651315</td>\n",
       "      <td>1.000000</td>\n",
       "      <td>0.098696</td>\n",
       "    </tr>\n",
       "    <tr>\n",
       "      <th>Claim_bool</th>\n",
       "      <td>0.073607</td>\n",
       "      <td>-0.011614</td>\n",
       "      <td>0.133931</td>\n",
       "      <td>0.098696</td>\n",
       "      <td>1.000000</td>\n",
       "    </tr>\n",
       "  </tbody>\n",
       "</table>\n",
       "</div>"
      ],
      "text/plain": [
       "                      Duration       Age  Net Sales  Commision (in value)  \\\n",
       "Duration              1.000000  0.002468   0.429235              0.344772   \n",
       "Age                   0.002468  1.000000   0.037756              0.118348   \n",
       "Net Sales             0.429235  0.037756   1.000000              0.651315   \n",
       "Commision (in value)  0.344772  0.118348   0.651315              1.000000   \n",
       "Claim_bool            0.073607 -0.011614   0.133931              0.098696   \n",
       "\n",
       "                      Claim_bool  \n",
       "Duration                0.073607  \n",
       "Age                    -0.011614  \n",
       "Net Sales               0.133931  \n",
       "Commision (in value)    0.098696  \n",
       "Claim_bool              1.000000  "
      ]
     },
     "execution_count": 31,
     "metadata": {},
     "output_type": "execute_result"
    }
   ],
   "source": [
    "# Correlation Analysis\n",
    "insurance[['Duration','Age','Net Sales','Commision (in value)','Claim_bool']].corr()"
   ]
  },
  {
   "cell_type": "code",
   "execution_count": 32,
   "metadata": {},
   "outputs": [
    {
     "data": {
      "text/plain": [
       "0      0\n",
       "1      1\n",
       "2      2\n",
       "3      3\n",
       "4      4\n",
       "5      5\n",
       "6      7\n",
       "7      8\n",
       "8      9\n",
       "9     10\n",
       "10    11\n",
       "11    12\n",
       "12    13\n",
       "14    15\n",
       "65    66\n",
       "77    78\n",
       "78    79\n",
       "79    80\n",
       "81    82\n",
       "83    84\n",
       "84    85\n",
       "85    86\n",
       "86    87\n",
       "87    88\n",
       "Name: Age, dtype: int64"
      ]
     },
     "execution_count": 32,
     "metadata": {},
     "output_type": "execute_result"
    }
   ],
   "source": [
    "# Ages without any claims\n",
    "age = calcClaimActivationRate(insurance, 'Age')\n",
    "age = age[age['Count of Activated Claims'] == 0]\n",
    "age['Age']"
   ]
  },
  {
   "cell_type": "markdown",
   "metadata": {},
   "source": [
    "More specifically, the youngest passengers (0-15) have not activated any claims nor have the most senior passengers (65+), excluding 118 year olds."
   ]
  },
  {
   "cell_type": "markdown",
   "metadata": {},
   "source": [
    "# 2.1.1 Business Impacts\n",
    "According to correlation matrix, there are no metrics with a strong direct correlation with Claim Status.\n",
    "However, there appear to be a few clusters that have not had any claims such as the youngest passengers as well as passengers with flight durations greater than 4,000. These passengers are the least risky. Would recommend considering lowered prices for these passenger types to attract more customers, depending on price-elasticity of products.\n",
    "\n",
    "Middle-Aged Customers (ages 30-59) have the most purchases, but the Young age group has the higher activation rate. Taking into account how no passengers 0-15 years old have any claims, passengers between 16 and 29 are the riskiest customers.\n",
    "\n",
    "Claim activation rates are highly similar between genders. \n",
    "\n",
    "Destination-wise, Singapore is the riskiest destination with over 4% of sales resulting in an activated claim.\n",
    "\n",
    "Concerning Net Sales and Commision, there are various linear relationships, which likely represent the different agencies and their respective commission rates. This information may be useful for agencies to see what their competitors are \n",
    "\n",
    "The records with negative Net Sales amounts are likely instances of refunds. May be useful to dig into these items to see if there are any scenarios that have more instances of refunds in order to potentially identify causes. Solving this issue would reduce administrative costs and improve profitability.\n",
    "\n",
    "For agencies, EPX is dominating the market in terms of quantity of sales but C2B and LWC may be more profitable.\n",
    "\n",
    "Between Airlines and Travel Agencies, Airlines have fewer sales but more activated claims."
   ]
  },
  {
   "cell_type": "markdown",
   "metadata": {},
   "source": [
    "For customers, with only 1.46% of all sales resulting in a claim, insurance packages should only be purchased if the price is less than 1.46% of the potential cost. (Perhaps more if risk-averse) Since insurance is typically purchased to cover flight cancellation, the potential cost would be the price of the flight ticket."
   ]
  },
  {
   "cell_type": "markdown",
   "metadata": {},
   "source": [
    "_Product Type was not analyzed in this report. A valuable enhancement to this data would be to take a closer look at the various products offered by each agency, compare coverage as well as Net Sales price.  \n",
    "Distribution Channel was also not looked at in-depth as there were so few instances of Offline sales versus Online._"
   ]
  },
  {
   "cell_type": "markdown",
   "metadata": {},
   "source": [
    "# 3. Connections between Plane Accidents and Travel Insurance"
   ]
  },
  {
   "cell_type": "markdown",
   "metadata": {},
   "source": [
    "Disclaimer - I would recommend being hesitant about drawing connections between plane accidents and travel insurance as travel insurance packages are mostly used by customers to cover ticket costs of flight cancellations, flight interruptions, as well as baggage loss/damage rather than plane accidents/crashes."
   ]
  },
  {
   "cell_type": "markdown",
   "metadata": {},
   "source": [
    "## 3.1 SQL Exercise\n",
    "Write (and show us) a SQL query that would output the following stats for each country in the plane_accidents.csv file :\n",
    "1. number of accidents\n",
    "2. net sales (from the travel insurance data)\n",
    "3. net sales for the insured who are aged 50 or under\n",
    "4. net sales for the insured who are over 50 years in age\n",
    "\n",
    "*Interpreting as: limit all queries to countries listed in the plane_accidents.csv file and group by country*\n",
    "\n",
    "1. SELECT * FROM PLANE_ACCIDENTS;  \n",
    "2. SELECT DESTINATION, SUM(NET_SALES) FROM TRAVEL_INSURANCE  \n",
    "&nbsp;&nbsp;&nbsp;&nbsp;WHERE REPLACE(DESTINATION, ' ', '') IN (SELECT REPLACE(UPPER(COUNTRY), ' ', '') FROM PLANE_ACCIDENTS) \n",
    "&nbsp;&nbsp;&nbsp;&nbsp;GROUP BY DESTINATION;\n",
    "3. SELECT DESTINATION, SUM(NET_SALES) FROM TRAVEL_INSURANCE  \n",
    "&nbsp;&nbsp;&nbsp;&nbsp;WHERE AGE <= 50 AND  \n",
    "&nbsp;&nbsp;&nbsp;&nbsp;&nbsp;&nbsp;&nbsp;&nbsp;REPLACE(DESTINATION, ' ', '') IN (SELECT REPLACE(UPPER(COUNTRY), ' ', '') FROM PLANE_ACCIDENTS)  \n",
    "&nbsp;&nbsp;&nbsp;&nbsp;GROUP BY DESTINATION;\n",
    "4. SELECT DESTINATION, SUM(NET_SALES) FROM TRAVEL_INSURANCE  \n",
    "&nbsp;&nbsp;&nbsp;&nbsp;WHERE AGE > 50 AND  \n",
    "&nbsp;&nbsp;&nbsp;&nbsp;&nbsp;&nbsp;&nbsp;&nbsp;REPLACE(DESTINATION, ' ', '') IN (SELECT REPLACE(UPPER(COUNTRY), ' ', '') FROM PLANE_ACCIDENTS)  \n",
    "&nbsp;&nbsp;&nbsp;&nbsp;GROUP BY DESTINATION;"
   ]
  },
  {
   "cell_type": "code",
   "execution_count": null,
   "metadata": {},
   "outputs": [],
   "source": []
  },
  {
   "cell_type": "code",
   "execution_count": null,
   "metadata": {},
   "outputs": [],
   "source": []
  }
 ],
 "metadata": {
  "kernelspec": {
   "display_name": "Python 3",
   "language": "python",
   "name": "python3"
  },
  "language_info": {
   "codemirror_mode": {
    "name": "ipython",
    "version": 3
   },
   "file_extension": ".py",
   "mimetype": "text/x-python",
   "name": "python",
   "nbconvert_exporter": "python",
   "pygments_lexer": "ipython3",
   "version": "3.6.8"
  }
 },
 "nbformat": 4,
 "nbformat_minor": 2
}
